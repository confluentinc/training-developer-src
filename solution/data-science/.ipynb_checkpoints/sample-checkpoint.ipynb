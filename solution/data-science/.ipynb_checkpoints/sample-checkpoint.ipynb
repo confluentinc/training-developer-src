{
 "cells": [
  {
   "cell_type": "code",
   "execution_count": 2,
   "metadata": {},
   "outputs": [],
   "source": [
    "from ksql import KSQLAPI"
   ]
  },
  {
   "cell_type": "code",
   "execution_count": 3,
   "metadata": {},
   "outputs": [],
   "source": [
    "client = KSQLAPI('http://localhost:8088')"
   ]
  },
  {
   "cell_type": "code",
   "execution_count": null,
   "metadata": {},
   "outputs": [],
   "source": [
    "client.create_stream(table_name='vpositions',\n",
    "                     columns_type=['desi  STRING','dir  STRING','oper  INTEGER','veh  INTEGER',\n",
    "                                   'tst  STRING','tsi  BIGINT','spd  DOUBLE','hdg  INTEGER',\n",
    "                                   'lat  DOUBLE','long  DOUBLE','acc  DOUBLE','dl  INTEGER',\n",
    "                                   'odo  INTEGER','drst  INTEGER','oday  STRING','jrn  INTEGER',\n",
    "                                   'line  INTEGER','start  STRING'],\n",
    "                     topic='vehicle-positions',\n",
    "                     value_format='JSON')"
   ]
  },
  {
   "cell_type": "code",
   "execution_count": null,
   "metadata": {},
   "outputs": [],
   "source": [
    "query = client.query('select * from vpositions limit 5')\n",
    "for item in query: print(item)"
   ]
  },
  {
   "cell_type": "code",
   "execution_count": null,
   "metadata": {},
   "outputs": [],
   "source": [
    "client.ksql('drop stream vpositions')"
   ]
  },
  {
   "cell_type": "code",
   "execution_count": null,
   "metadata": {},
   "outputs": [],
   "source": [
    "result = client.query('select oper, veh, lat, long from vpositions where oper=12 limit 10')\n",
    "for item in result: print(item)"
   ]
  }
 ],
 "metadata": {
  "kernelspec": {
   "display_name": "Python 3",
   "language": "python",
   "name": "python3"
  },
  "language_info": {
   "codemirror_mode": {
    "name": "ipython",
    "version": 3
   },
   "file_extension": ".py",
   "mimetype": "text/x-python",
   "name": "python",
   "nbconvert_exporter": "python",
   "pygments_lexer": "ipython3",
   "version": "3.7.0"
  }
 },
 "nbformat": 4,
 "nbformat_minor": 2
}
